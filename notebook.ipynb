{
 "cells": [
  {
   "cell_type": "code",
   "execution_count": 1,
   "metadata": {},
   "outputs": [],
   "source": [
    "import os\n",
    "import numpy as np\n",
    "\n",
    "import matplotlib.pyplot as plt\n",
    "import matplotlib.image as image\n",
    "\n",
    "from skimage import io\n",
    "from sklearn.cluster import MiniBatchKMeans\n",
    "\n",
    "from ipywidgets import interact, interactive, fixed, interact_manual, IntSlider, IntText\n",
    "import ipywidgets as widgets"
   ]
  },
  {
   "cell_type": "code",
   "execution_count": 2,
   "metadata": {},
   "outputs": [],
   "source": [
    "plt.style.use(\"ggplot\")\n",
    "plt.rcParams['figure.figsize'] = (10,8)\n",
    "directory = 'images/'"
   ]
  },
  {
   "cell_type": "code",
   "execution_count": 3,
   "metadata": {},
   "outputs": [
    {
     "data": {
      "application/vnd.jupyter.widget-view+json": {
       "model_id": "9658bed25fb84c4e820f77afcdc0c352",
       "version_major": 2,
       "version_minor": 0
      },
      "text/plain": [
       "interactive(children=(Dropdown(description='Image', options=('.ipynb_checkpoints', 'img1.jpeg', 'img2.jpg', 'i…"
      ]
     },
     "metadata": {},
     "output_type": "display_data"
    }
   ],
   "source": [
    "@interact\n",
    "def reduce_color(Image=os.listdir(directory), k=IntText(value=16,min=0, max=10, step=2, description=\"Value of 'k'\", disabled=False)):\n",
    "    input_img = io.imread(directory + Image)\n",
    "    img_data = (input_img / 255.0).reshape(-1, 3)\n",
    "    kmeans = MiniBatchKMeans(k).fit(img_data)\n",
    "    k_colors = kmeans.cluster_centers_[kmeans.predict(img_data)]\n",
    "    k_img = np.reshape(k_colors, (input_img.shape))\n",
    "    \n",
    "    fig, (ax, ax1) = plt.subplots(1, 2)\n",
    "    fig.suptitle('K-means color space reduction', fontsize=25, x=0.5)\n",
    "    \n",
    "    \n",
    "    \"\"\"org_cols=input_img.shape[0]*input_img.shape[1]*input_img.shape[2]\"\"\"\n",
    "    title='Original'\n",
    "    ax.set_title(title)\n",
    "    ax.axis('off')\n",
    "    ax.imshow(input_img)\n",
    "    \n",
    "    ax1.set_title('New')\n",
    "    ax1.axis('off')\n",
    "    \"\"\"ax1.set_xticks([])\n",
    "    ax1.set_yticks([])\"\"\"\n",
    "    ax1.imshow(k_img)\n",
    "    \n",
    "    plt.subplots_adjust(top=0.9)\n",
    "    plt.show()"
   ]
  },
  {
   "cell_type": "code",
   "execution_count": null,
   "metadata": {},
   "outputs": [],
   "source": []
  }
 ],
 "metadata": {
  "kernelspec": {
   "display_name": "Python 3",
   "language": "python",
   "name": "python3"
  },
  "language_info": {
   "codemirror_mode": {
    "name": "ipython",
    "version": 3
   },
   "file_extension": ".py",
   "mimetype": "text/x-python",
   "name": "python",
   "nbconvert_exporter": "python",
   "pygments_lexer": "ipython3",
   "version": "3.8.3"
  }
 },
 "nbformat": 4,
 "nbformat_minor": 4
}
